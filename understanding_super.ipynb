{
 "cells": [
  {
   "cell_type": "code",
   "execution_count": 100,
   "metadata": {
    "collapsed": false
   },
   "outputs": [],
   "source": [
    "class A(object):\n",
    "    def __init__(self, i):\n",
    "        self.i = i\n",
    "    def run(self, value):\n",
    "        return self.i * value\n",
    "\n",
    "class B(A):\n",
    "    def __init__(self, i, j):\n",
    "        super(B, self).__init__(i)\n",
    "        self.j = j\n",
    "    def run(self, value):\n",
    "        return super(B, self).run(value) + self.j"
   ]
  },
  {
   "cell_type": "code",
   "execution_count": 101,
   "metadata": {
    "collapsed": false
   },
   "outputs": [],
   "source": [
    "class Logger(object):\n",
    "    def __init__(self, name, *args, **kwargs):\n",
    "        self.name = name\n",
    "    \n",
    "    def run_logged(self, value):\n",
    "        print \"Running\", self.name, \"with info\", self.info()\n",
    "        return self.run(value)\n",
    "\n",
    "class BLogged(B, Logger):\n",
    "    def __init__(self, i, j):\n",
    "        B.__init__(self, i, j) # Bad...\n",
    "        Logger.__init__(self, \"B\") # Even worse...\n",
    "    def info(self):\n",
    "        return 42"
   ]
  },
  {
   "cell_type": "code",
   "execution_count": 102,
   "metadata": {
    "collapsed": false
   },
   "outputs": [],
   "source": [
    "b = B(3, 4)"
   ]
  },
  {
   "cell_type": "code",
   "execution_count": 103,
   "metadata": {
    "collapsed": false
   },
   "outputs": [
    {
     "data": {
      "text/plain": [
       "(__main__.B, __main__.A, object)"
      ]
     },
     "execution_count": 103,
     "metadata": {},
     "output_type": "execute_result"
    }
   ],
   "source": [
    "B.__mro__"
   ]
  },
  {
   "cell_type": "code",
   "execution_count": 104,
   "metadata": {
    "collapsed": false
   },
   "outputs": [
    {
     "data": {
      "text/plain": [
       "(__main__.BLogged, __main__.B, __main__.A, __main__.Logger, object)"
      ]
     },
     "execution_count": 104,
     "metadata": {},
     "output_type": "execute_result"
    }
   ],
   "source": [
    "BLogged.__mro__"
   ]
  },
  {
   "cell_type": "code",
   "execution_count": 105,
   "metadata": {
    "collapsed": false
   },
   "outputs": [],
   "source": [
    "bl = BLogged(3, 4)"
   ]
  },
  {
   "cell_type": "code",
   "execution_count": 106,
   "metadata": {
    "collapsed": false
   },
   "outputs": [
    {
     "data": {
      "text/plain": [
       "13"
      ]
     },
     "execution_count": 106,
     "metadata": {},
     "output_type": "execute_result"
    }
   ],
   "source": [
    "bl.run(3)"
   ]
  },
  {
   "cell_type": "code",
   "execution_count": 107,
   "metadata": {
    "collapsed": false
   },
   "outputs": [
    {
     "data": {
      "text/plain": [
       "['__class__',\n",
       " '__delattr__',\n",
       " '__dict__',\n",
       " '__doc__',\n",
       " '__format__',\n",
       " '__getattribute__',\n",
       " '__hash__',\n",
       " '__init__',\n",
       " '__module__',\n",
       " '__new__',\n",
       " '__reduce__',\n",
       " '__reduce_ex__',\n",
       " '__repr__',\n",
       " '__setattr__',\n",
       " '__sizeof__',\n",
       " '__str__',\n",
       " '__subclasshook__',\n",
       " '__weakref__',\n",
       " 'i',\n",
       " 'info',\n",
       " 'j',\n",
       " 'name',\n",
       " 'run',\n",
       " 'run_logged']"
      ]
     },
     "execution_count": 107,
     "metadata": {},
     "output_type": "execute_result"
    }
   ],
   "source": [
    "dir(bl)"
   ]
  },
  {
   "cell_type": "code",
   "execution_count": 108,
   "metadata": {
    "collapsed": false
   },
   "outputs": [
    {
     "data": {
      "text/plain": [
       "(__main__.Logger, object)"
      ]
     },
     "execution_count": 108,
     "metadata": {},
     "output_type": "execute_result"
    }
   ],
   "source": [
    "Logger.__mro__"
   ]
  },
  {
   "cell_type": "code",
   "execution_count": 109,
   "metadata": {
    "collapsed": false
   },
   "outputs": [],
   "source": [
    "s = super(BLogged, bl)"
   ]
  },
  {
   "cell_type": "code",
   "execution_count": 110,
   "metadata": {
    "collapsed": false
   },
   "outputs": [
    {
     "data": {
      "text/plain": [
       "['__class__',\n",
       " '__delattr__',\n",
       " '__doc__',\n",
       " '__format__',\n",
       " '__get__',\n",
       " '__getattribute__',\n",
       " '__hash__',\n",
       " '__init__',\n",
       " '__new__',\n",
       " '__reduce__',\n",
       " '__reduce_ex__',\n",
       " '__repr__',\n",
       " '__self__',\n",
       " '__self_class__',\n",
       " '__setattr__',\n",
       " '__sizeof__',\n",
       " '__str__',\n",
       " '__subclasshook__',\n",
       " '__thisclass__',\n",
       " 'i',\n",
       " 'j',\n",
       " 'name']"
      ]
     },
     "execution_count": 110,
     "metadata": {},
     "output_type": "execute_result"
    }
   ],
   "source": [
    "dir(s)"
   ]
  },
  {
   "cell_type": "code",
   "execution_count": 111,
   "metadata": {
    "collapsed": false
   },
   "outputs": [
    {
     "data": {
      "text/plain": [
       "super"
      ]
     },
     "execution_count": 111,
     "metadata": {},
     "output_type": "execute_result"
    }
   ],
   "source": [
    "type(s)"
   ]
  },
  {
   "cell_type": "markdown",
   "metadata": {},
   "source": [
    "It looks fine. So what is the problem of hard coding `B.__init__` and `Logger.__init__`?\n",
    "\n",
    "Let's see some example.\n",
    "\n",
    "Suppose you want another class inheritate from `B` and other `Base` class, let's see what will happend if you try to inheritate both `B` and `Base`:"
   ]
  },
  {
   "cell_type": "code",
   "execution_count": 112,
   "metadata": {
    "collapsed": true
   },
   "outputs": [],
   "source": [
    "class Base(object):\n",
    "    \n",
    "    def __init__(self, *args, **kwargs):\n",
    "        self.base = \"this is from Base!\"\n",
    "\n",
    "class Child(Base, BLogged): pass\n"
   ]
  },
  {
   "cell_type": "code",
   "execution_count": 113,
   "metadata": {
    "collapsed": true
   },
   "outputs": [],
   "source": [
    "child = Child(1, 2)"
   ]
  },
  {
   "cell_type": "code",
   "execution_count": 114,
   "metadata": {
    "collapsed": false
   },
   "outputs": [
    {
     "data": {
      "text/plain": [
       "['__class__',\n",
       " '__delattr__',\n",
       " '__dict__',\n",
       " '__doc__',\n",
       " '__format__',\n",
       " '__getattribute__',\n",
       " '__hash__',\n",
       " '__init__',\n",
       " '__module__',\n",
       " '__new__',\n",
       " '__reduce__',\n",
       " '__reduce_ex__',\n",
       " '__repr__',\n",
       " '__setattr__',\n",
       " '__sizeof__',\n",
       " '__str__',\n",
       " '__subclasshook__',\n",
       " '__weakref__',\n",
       " 'base',\n",
       " 'info',\n",
       " 'run',\n",
       " 'run_logged']"
      ]
     },
     "execution_count": 114,
     "metadata": {},
     "output_type": "execute_result"
    }
   ],
   "source": [
    "dir(child)"
   ]
  },
  {
   "cell_type": "code",
   "execution_count": 115,
   "metadata": {
    "collapsed": false
   },
   "outputs": [
    {
     "name": "stdout",
     "output_type": "stream",
     "text": [
      "this is from Base!\n"
     ]
    }
   ],
   "source": [
    "print(child.base)"
   ]
  },
  {
   "cell_type": "code",
   "execution_count": 116,
   "metadata": {
    "collapsed": true
   },
   "outputs": [],
   "source": [
    "# twist it a bit:\n",
    "class Child(BLogged, Base):pass"
   ]
  },
  {
   "cell_type": "code",
   "execution_count": 117,
   "metadata": {
    "collapsed": false
   },
   "outputs": [
    {
     "ename": "AttributeError",
     "evalue": "'Child' object has no attribute 'base'",
     "output_type": "error",
     "traceback": [
      "\u001b[0;31m---------------------------------------------------------------------------\u001b[0m",
      "\u001b[0;31mAttributeError\u001b[0m                            Traceback (most recent call last)",
      "\u001b[0;32m<ipython-input-117-1e62ce25467e>\u001b[0m in \u001b[0;36m<module>\u001b[0;34m()\u001b[0m\n\u001b[1;32m      1\u001b[0m \u001b[0mchild\u001b[0m \u001b[0;34m=\u001b[0m \u001b[0mChild\u001b[0m\u001b[0;34m(\u001b[0m\u001b[0;36m1\u001b[0m\u001b[0;34m,\u001b[0m \u001b[0;36m2\u001b[0m\u001b[0;34m)\u001b[0m\u001b[0;34m\u001b[0m\u001b[0m\n\u001b[0;32m----> 2\u001b[0;31m \u001b[0;32mprint\u001b[0m\u001b[0;34m(\u001b[0m\u001b[0mchild\u001b[0m\u001b[0;34m.\u001b[0m\u001b[0mbase\u001b[0m\u001b[0;34m)\u001b[0m\u001b[0;34m\u001b[0m\u001b[0m\n\u001b[0m",
      "\u001b[0;31mAttributeError\u001b[0m: 'Child' object has no attribute 'base'"
     ]
    }
   ],
   "source": [
    "child = Child(1, 2)\n",
    "print(child.base)"
   ]
  },
  {
   "cell_type": "markdown",
   "metadata": {},
   "source": [
    "What!? the `Base` is gone!\n",
    "\n",
    "This is because we hard code `B.__init__` and `Logged.__init__`.\n",
    "\n",
    "The initiation of `Child` instance (the function call to `Child.__init__`) is as following:\n",
    "\n",
    "1. Since `Child` does not implement `__init__`, `BLogged.__init__` is called since it is the next base class in the `mro`\n",
    "2. In `BLogged.__init__`, `B.__init__` and `Logger.__init__` are called. The the initiation is done.\n",
    "3. `Base.__init__` never get the chace to be called. That is why the `base` attribute is gone."
   ]
  },
  {
   "cell_type": "markdown",
   "metadata": {},
   "source": [
    "## The Fix\n",
    "\n",
    "Here is a fixed version of above classes. (with `super`!)"
   ]
  },
  {
   "cell_type": "code",
   "execution_count": 138,
   "metadata": {
    "collapsed": true
   },
   "outputs": [],
   "source": [
    "class AFixed(object):\n",
    "    def __init__(self, i, *args, **kwargs):\n",
    "        self.i = i\n",
    "        super(AFixed, self).__init__(*args, **kwargs)\n",
    "    \n",
    "    def run(self, value):\n",
    "        return self.i * value\n",
    "\n",
    "class BFixed(AFixed):\n",
    "    def __init__(self, i, j, *args, **kwargs):\n",
    "        self.j = j\n",
    "        super(BFixed, self).__init__(i, *args, **kwargs)\n",
    "    \n",
    "    def run(self, value):\n",
    "        return super(B, self).run(value) + self.j\n",
    "\n",
    "class LoggerFixed(object):\n",
    "    def __init__(self, name, *args, **kwargs):\n",
    "        self.name = name\n",
    "        super(LoggerFixed, self).__init__(*args, **kwargs)\n",
    "    \n",
    "    def run_logged(self, value):\n",
    "        print \"Running\", self.name, \"with info\", self.info()\n",
    "        return self.run(value)\n",
    "\n",
    "class BLoggedFixed(BFixed, LoggerFixed):\n",
    "    def __init__(self, i, j, *args, **kwargs):\n",
    "        super(BLoggedFixed, self).__init__(i, j, *args, **kwargs)\n",
    "    def info(self):\n",
    "        return 42\n",
    "\n",
    "class ChildV1(BLoggedFixed, Base): pass\n",
    "class ChildV2(Base, BLoggedFixed): pass"
   ]
  },
  {
   "cell_type": "code",
   "execution_count": 139,
   "metadata": {
    "collapsed": false
   },
   "outputs": [],
   "source": [
    "child1 = ChildV1(1, 2, \"name\")"
   ]
  },
  {
   "cell_type": "code",
   "execution_count": 140,
   "metadata": {
    "collapsed": false
   },
   "outputs": [
    {
     "data": {
      "text/plain": [
       "(__main__.ChildV1,\n",
       " __main__.BLoggedFixed,\n",
       " __main__.BFixed,\n",
       " __main__.AFixed,\n",
       " __main__.LoggerFixed,\n",
       " __main__.Base,\n",
       " object)"
      ]
     },
     "execution_count": 140,
     "metadata": {},
     "output_type": "execute_result"
    }
   ],
   "source": [
    "ChildV1.__mro__"
   ]
  },
  {
   "cell_type": "code",
   "execution_count": 141,
   "metadata": {
    "collapsed": false
   },
   "outputs": [
    {
     "data": {
      "text/plain": [
       "'this is from Base!'"
      ]
     },
     "execution_count": 141,
     "metadata": {},
     "output_type": "execute_result"
    }
   ],
   "source": [
    "child1.base"
   ]
  },
  {
   "cell_type": "code",
   "execution_count": 142,
   "metadata": {
    "collapsed": false
   },
   "outputs": [
    {
     "data": {
      "text/plain": [
       "'this is from Base!'"
      ]
     },
     "execution_count": 142,
     "metadata": {},
     "output_type": "execute_result"
    }
   ],
   "source": [
    "child2 = ChildV2(1, 2, \"name\")\n",
    "child2.base"
   ]
  },
  {
   "cell_type": "markdown",
   "metadata": {},
   "source": [
    "## Lesson Learnd\n",
    "\n",
    "1. use `super` to maintain the `__mro__`\n",
    "2. Mutiple inherientance is a bad idea. The mro tree can be hard to trace."
   ]
  },
  {
   "cell_type": "code",
   "execution_count": 48,
   "metadata": {
    "collapsed": false
   },
   "outputs": [],
   "source": [
    "class A(object):\n",
    "    def __init__(self, i, **kwargs):\n",
    "        \"\"\"\n",
    "        A\n",
    "        \"\"\"\n",
    "        super(A, self).__init__(**kwargs)\n",
    "        self.i = i\n",
    "    def run(self, value):\n",
    "        return self.i * value\n",
    "\n",
    "class B(A):\n",
    "    def __init__(self, j, **kwargs):\n",
    "        \"\"\"\n",
    "        B\n",
    "        \"\"\"\n",
    "        super(B, self).__init__(**kwargs)\n",
    "        self.j = j\n",
    "    def run(self, value):\n",
    "        return super(B, self).run(value) + self.j\n",
    "\n",
    "class Logger(object):\n",
    "    def __init__(self, name, **kwargs):\n",
    "        \"\"\"\n",
    "        C\n",
    "        \"\"\"\n",
    "        super(Logger,self).__init__(**kwargs)\n",
    "        self.name = name\n",
    "    def run_logged(self, value):\n",
    "        print \"Running\", self.name, \"with info\", self.info()\n",
    "        return self.run(value)\n",
    "\n",
    "class BLogged(B, Logger):\n",
    "    def __init__(self, **kwargs):\n",
    "        \"\"\"\n",
    "        D\n",
    "        \"\"\"\n",
    "        super(BLogged, self).__init__(name=\"B\", **kwargs)\n",
    "    def info(self):\n",
    "        return 42\n",
    "\n",
    "b = BLogged(i=3, j=4)"
   ]
  },
  {
   "cell_type": "code",
   "execution_count": 49,
   "metadata": {
    "collapsed": false
   },
   "outputs": [
    {
     "data": {
      "text/plain": [
       "'B'"
      ]
     },
     "execution_count": 49,
     "metadata": {},
     "output_type": "execute_result"
    }
   ],
   "source": [
    "b.name"
   ]
  },
  {
   "cell_type": "code",
   "execution_count": 50,
   "metadata": {
    "collapsed": false
   },
   "outputs": [
    {
     "data": {
      "text/plain": [
       "(__main__.BLogged, __main__.B, __main__.A, __main__.Logger, object)"
      ]
     },
     "execution_count": 50,
     "metadata": {},
     "output_type": "execute_result"
    }
   ],
   "source": [
    "BLogged.__mro__"
   ]
  },
  {
   "cell_type": "code",
   "execution_count": 51,
   "metadata": {
    "collapsed": false
   },
   "outputs": [],
   "source": [
    "s = super(BLogged, b)"
   ]
  },
  {
   "cell_type": "code",
   "execution_count": 52,
   "metadata": {
    "collapsed": false
   },
   "outputs": [
    {
     "data": {
      "text/plain": [
       "'\\n        B\\n        '"
      ]
     },
     "execution_count": 52,
     "metadata": {},
     "output_type": "execute_result"
    }
   ],
   "source": [
    "s.__init__.__doc__"
   ]
  },
  {
   "cell_type": "code",
   "execution_count": null,
   "metadata": {
    "collapsed": false
   },
   "outputs": [],
   "source": []
  }
 ],
 "metadata": {
  "kernelspec": {
   "display_name": "Python 2",
   "language": "python",
   "name": "python2"
  },
  "language_info": {
   "codemirror_mode": {
    "name": "ipython",
    "version": 2
   },
   "file_extension": ".py",
   "mimetype": "text/x-python",
   "name": "python",
   "nbconvert_exporter": "python",
   "pygments_lexer": "ipython2",
   "version": "2.7.10"
  }
 },
 "nbformat": 4,
 "nbformat_minor": 0
}
