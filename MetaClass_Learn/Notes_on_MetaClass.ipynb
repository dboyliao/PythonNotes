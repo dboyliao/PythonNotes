{
 "metadata": {
  "name": "",
  "signature": "sha256:45b91d882b7852527ffd23f768033b0acdc8353c1f8c2ca18a1a4d15fdb98e10"
 },
 "nbformat": 3,
 "nbformat_minor": 0,
 "worksheets": [
  {
   "cells": [
    {
     "cell_type": "markdown",
     "metadata": {},
     "source": [
      "Meta Class in Python\n",
      "===\n",
      "\n",
      "First Look:\n",
      "![relations](https://raw.githubusercontent.com/dboyliao/Python_Learning/master/MetaClass_Learn/img/Meta_Class.png)\n",
      "\n",
      "Notes:\n",
      "- MyMetaClass1(type) means that it is the metaclass defined by me and inherit all class methods from type metaclass (default metaclass).\n",
      "- MyClass11(object) means that it is the class defined by me and inherit all instance methods from object class (new-style class).\n",
      "\n",
      "References:\n",
      "- http://hychen.wuweig.org/blog/2012/06/12/slide-pycontw2012/\n",
      "- http://www.cafepy.com/article/python_types_and_objects/python_types_and_objects.html"
     ]
    },
    {
     "cell_type": "code",
     "collapsed": false,
     "input": [
      "two = 2\n",
      "type(two)"
     ],
     "language": "python",
     "metadata": {},
     "outputs": [
      {
       "metadata": {},
       "output_type": "pyout",
       "prompt_number": 9,
       "text": [
        "int"
       ]
      }
     ],
     "prompt_number": 9
    },
    {
     "cell_type": "code",
     "collapsed": false,
     "input": [
      "type(type(two))"
     ],
     "language": "python",
     "metadata": {},
     "outputs": [
      {
       "metadata": {},
       "output_type": "pyout",
       "prompt_number": 10,
       "text": [
        "type"
       ]
      }
     ],
     "prompt_number": 10
    },
    {
     "cell_type": "code",
     "collapsed": false,
     "input": [
      "type(two).__bases__"
     ],
     "language": "python",
     "metadata": {},
     "outputs": [
      {
       "metadata": {},
       "output_type": "pyout",
       "prompt_number": 12,
       "text": [
        "(object,)"
       ]
      }
     ],
     "prompt_number": 12
    },
    {
     "cell_type": "code",
     "collapsed": false,
     "input": [
      "print dir(two)"
     ],
     "language": "python",
     "metadata": {},
     "outputs": [
      {
       "output_type": "stream",
       "stream": "stdout",
       "text": [
        "['__abs__', '__add__', '__and__', '__class__', '__cmp__', '__coerce__', '__delattr__', '__div__', '__divmod__', '__doc__', '__float__', '__floordiv__', '__format__', '__getattribute__', '__getnewargs__', '__hash__', '__hex__', '__index__', '__init__', '__int__', '__invert__', '__long__', '__lshift__', '__mod__', '__mul__', '__neg__', '__new__', '__nonzero__', '__oct__', '__or__', '__pos__', '__pow__', '__radd__', '__rand__', '__rdiv__', '__rdivmod__', '__reduce__', '__reduce_ex__', '__repr__', '__rfloordiv__', '__rlshift__', '__rmod__', '__rmul__', '__ror__', '__rpow__', '__rrshift__', '__rshift__', '__rsub__', '__rtruediv__', '__rxor__', '__setattr__', '__sizeof__', '__str__', '__sub__', '__subclasshook__', '__truediv__', '__trunc__', '__xor__', 'bit_length', 'conjugate', 'denominator', 'imag', 'numerator', 'real']\n"
       ]
      }
     ],
     "prompt_number": 20
    },
    {
     "cell_type": "code",
     "collapsed": false,
     "input": [
      "print object.__repr__"
     ],
     "language": "python",
     "metadata": {},
     "outputs": [
      {
       "output_type": "stream",
       "stream": "stdout",
       "text": [
        "<slot wrapper '__repr__' of 'object' objects>\n"
       ]
      }
     ],
     "prompt_number": 45
    },
    {
     "cell_type": "code",
     "collapsed": false,
     "input": [
      "'''\n",
      "Following are some examples for metaclass programming in python.\n",
      "'''\n",
      "# Singleton\n",
      "class Singleton(type):\n",
      "    '''\n",
      "    We can see that Singleton is a metaclass inherit from type.\n",
      "    '''\n",
      "    def __init__(cls,name,bases,dic):\n",
      "        '''\n",
      "        Since Singleton is a metaclass, __init__ here is a class level method.\n",
      "        '''\n",
      "        super(Singleton,cls).__init__(name,bases,dic)\n",
      "        cls.instance=None\n",
      "\n",
      "    def __call__(cls, *args, **kwargs):\n",
      "      # \u9019\u88e1\u4e0draise Exception, \u662f\u56e0\u70badoctest\u6bd4\u8f03\u597d\u5beb\n",
      "            print \"please use get_instance function to get the instance\"\n",
      "            # \u4f60\u4e5f\u53ef\u8b93cls()\u76f4\u63a5\u50b3\u56deinstance, \u8b93class user\u4e0d\u7528\u5728\u610f\u4ed6\u7528\u7684class\n",
      "      # \u662f\u4e0d\u662fSingleton, \u4ed6\u53ea\u8981\u6ce8\u610fclass\u7684\u4e3b\u529f\u80fd\u5373\u53ef\n",
      "            # return cls.get_instance(*args, *kw)\n",
      "\n",
      "    def get_instance(cls,*args,**kw):\n",
      "        if cls.instance is None:\n",
      "            cls.instance=super(Singleton,cls).__call__(*args,**kw)\n",
      "        return cls.instance"
     ],
     "language": "python",
     "metadata": {},
     "outputs": [],
     "prompt_number": 6
    },
    {
     "cell_type": "code",
     "collapsed": false,
     "input": [],
     "language": "python",
     "metadata": {},
     "outputs": [
      {
       "ename": "SyntaxError",
       "evalue": "invalid syntax (<ipython-input-8-1aece89bcbf2>, line 1)",
       "output_type": "pyerr",
       "traceback": [
        "\u001b[0;36m  File \u001b[0;32m\"<ipython-input-8-1aece89bcbf2>\"\u001b[0;36m, line \u001b[0;32m1\u001b[0m\n\u001b[0;31m    type.__init__()?\u001b[0m\n\u001b[0m                   ^\u001b[0m\n\u001b[0;31mSyntaxError\u001b[0m\u001b[0;31m:\u001b[0m invalid syntax\n"
       ]
      }
     ],
     "prompt_number": 8
    },
    {
     "cell_type": "code",
     "collapsed": false,
     "input": [],
     "language": "python",
     "metadata": {},
     "outputs": []
    },
    {
     "cell_type": "code",
     "collapsed": false,
     "input": [],
     "language": "python",
     "metadata": {},
     "outputs": []
    },
    {
     "cell_type": "code",
     "collapsed": false,
     "input": [],
     "language": "python",
     "metadata": {},
     "outputs": []
    },
    {
     "cell_type": "code",
     "collapsed": false,
     "input": [],
     "language": "python",
     "metadata": {},
     "outputs": []
    },
    {
     "cell_type": "code",
     "collapsed": false,
     "input": [],
     "language": "python",
     "metadata": {},
     "outputs": []
    },
    {
     "cell_type": "code",
     "collapsed": false,
     "input": [],
     "language": "python",
     "metadata": {},
     "outputs": []
    },
    {
     "cell_type": "code",
     "collapsed": false,
     "input": [],
     "language": "python",
     "metadata": {},
     "outputs": []
    },
    {
     "cell_type": "code",
     "collapsed": false,
     "input": [
      "# ** --> stands for key word arguments: a dict.\n",
      "def my_function(**args):\n",
      "    print args\n",
      "# * --> stands for args: a tuple.\n",
      "def my_function2(*args):\n",
      "    print args\n",
      "def my_function3(**kwargs):\n",
      "    print kwargs"
     ],
     "language": "python",
     "metadata": {},
     "outputs": [],
     "prompt_number": 1
    },
    {
     "cell_type": "code",
     "collapsed": false,
     "input": [
      "my_function(a = 1, b = 2)"
     ],
     "language": "python",
     "metadata": {},
     "outputs": [
      {
       "output_type": "stream",
       "stream": "stdout",
       "text": [
        "{'a': 1, 'b': 2}\n"
       ]
      }
     ],
     "prompt_number": 2
    },
    {
     "cell_type": "code",
     "collapsed": false,
     "input": [
      "my_function2(3, 2, 1)\n",
      "my_function3(x = 3, y = 2, z = 1)"
     ],
     "language": "python",
     "metadata": {},
     "outputs": [
      {
       "output_type": "stream",
       "stream": "stdout",
       "text": [
        "(3, 2, 1)\n",
        "{'y': 2, 'x': 3, 'z': 1}\n"
       ]
      }
     ],
     "prompt_number": 3
    },
    {
     "cell_type": "code",
     "collapsed": false,
     "input": [],
     "language": "python",
     "metadata": {},
     "outputs": []
    }
   ],
   "metadata": {}
  }
 ]
}