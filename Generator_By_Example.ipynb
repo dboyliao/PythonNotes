{
 "cells": [
  {
   "cell_type": "code",
   "execution_count": 3,
   "metadata": {
    "collapsed": false
   },
   "outputs": [
    {
     "data": {
      "text/html": [
       "\n",
       "        <iframe\n",
       "            width=\"600\"\n",
       "            height=\"450\"\n",
       "            src=\"https://www.youtube.com/embed/RdhoN4VVqq8\"\n",
       "            frameborder=\"0\"\n",
       "            allowfullscreen\n",
       "        ></iframe>\n",
       "        "
      ],
      "text/plain": [
       "<IPython.lib.display.YouTubeVideo at 0x102abb518>"
      ]
     },
     "execution_count": 3,
     "metadata": {},
     "output_type": "execute_result"
    }
   ],
   "source": [
    "from IPython.display import YouTubeVideo\n",
    "\n",
    "YouTubeVideo(\"RdhoN4VVqq8\", width = 600, height=450)"
   ]
  },
  {
   "cell_type": "markdown",
   "metadata": {},
   "source": [
    "## Generator by Example\n",
    "\n",
    "In this example, we write some functions, `execute`, `worker` and `logger`, to demostrate the basic of generators.\n",
    "\n",
    "- `execute`: a function which execute `worker` and do the logging by `logger`.\n",
    "- `worker`: a function which do the job.\n",
    "- `logger`: a function which will log out the current process."
   ]
  },
  {
   "cell_type": "code",
   "execution_count": 1,
   "metadata": {
    "collapsed": true
   },
   "outputs": [],
   "source": [
    "# define the logger\n",
    "def logger(prefix = \"[Info]\"):\n",
    "    current_message = (yield) \n",
    "    while current_message is not None:\n",
    "        print(\"{}: {}\".format(prefix, current_message))\n",
    "        current_message = (yield)\n",
    "    \n",
    "    print(\"process done\")"
   ]
  },
  {
   "cell_type": "markdown",
   "metadata": {},
   "source": [
    "Notice how we use the <code><font color='green'>yield</font></code> keyword.\n",
    "\n",
    "The reason why we write our logger in such manner is that we will use the `send` method to pass message to our logger.\n",
    "\n",
    "Let's see how it work"
   ]
  },
  {
   "cell_type": "code",
   "execution_count": 2,
   "metadata": {
    "collapsed": false
   },
   "outputs": [
    {
     "name": "stdout",
     "output_type": "stream",
     "text": [
      "[Info]: hello\n"
     ]
    }
   ],
   "source": [
    "log = logger()\n",
    "next(log) # start the logger (a generator)\n",
    "log.send(\"hello\")"
   ]
  },
  {
   "cell_type": "markdown",
   "metadata": {},
   "source": [
    "The example above can be devided into following steps:\n",
    "\n",
    "1. initiate the logger by invoke the logger generator\n",
    "2. use next to start the logger and get it ready for `send`. At this time, the generator stop execution at `yield` keyword and wait for further information.\n",
    "3. we send the message to the logger. At this time, the generator restart at where they stopped before and execute the code till the next `yield` or `return`."
   ]
  },
  {
   "cell_type": "code",
   "execution_count": 3,
   "metadata": {
    "collapsed": false
   },
   "outputs": [
    {
     "name": "stdout",
     "output_type": "stream",
     "text": [
      "process done\n"
     ]
    },
    {
     "ename": "StopIteration",
     "evalue": "",
     "output_type": "error",
     "traceback": [
      "\u001b[0;31m---------------------------------------------------------------------------\u001b[0m",
      "\u001b[0;31mStopIteration\u001b[0m                             Traceback (most recent call last)",
      "\u001b[0;32m<ipython-input-3-b84f3c3cd9b6>\u001b[0m in \u001b[0;36m<module>\u001b[0;34m()\u001b[0m\n\u001b[0;32m----> 1\u001b[0;31m \u001b[0mnext\u001b[0m\u001b[0;34m(\u001b[0m\u001b[0mlog\u001b[0m\u001b[0;34m)\u001b[0m \u001b[0;31m# invoke it again\u001b[0m\u001b[0;34m\u001b[0m\u001b[0m\n\u001b[0m",
      "\u001b[0;31mStopIteration\u001b[0m: "
     ]
    }
   ],
   "source": [
    "next(log) # invoke it again"
   ]
  },
  {
   "cell_type": "markdown",
   "metadata": {},
   "source": [
    "Opps, a `StopIteration` error.\n",
    "\n",
    "The reason for this is that there is no more item to generate. However, the final print will never be execute.\n",
    "\n",
    "To fix this, we modify the `logger` generator a bit."
   ]
  },
  {
   "cell_type": "code",
   "execution_count": 4,
   "metadata": {
    "collapsed": true
   },
   "outputs": [],
   "source": [
    "def logger2(prefix = \"[Info]\"):\n",
    "    \n",
    "    current_message = (yield) \n",
    "    while current_message is not None:\n",
    "        print(\"{}: {}\".format(prefix, current_message))\n",
    "        current_message = (yield)\n",
    "    print(\"process done\")\n",
    "    \n",
    "    while True:\n",
    "        yield # prevent StopIteration"
   ]
  },
  {
   "cell_type": "code",
   "execution_count": 5,
   "metadata": {
    "collapsed": false
   },
   "outputs": [
    {
     "name": "stdout",
     "output_type": "stream",
     "text": [
      "[Info]: Hello world\n",
      "process done\n"
     ]
    }
   ],
   "source": [
    "log = logger2()\n",
    "next(log)\n",
    "log.send(\"Hello world\")\n",
    "next(log)"
   ]
  },
  {
   "cell_type": "code",
   "execution_count": 6,
   "metadata": {
    "collapsed": true
   },
   "outputs": [],
   "source": [
    "# a simple worker\n",
    "def worker(n):\n",
    "    for i in range(n):\n",
    "        yield i\n",
    "    \n",
    "    while True:\n",
    "        yield"
   ]
  },
  {
   "cell_type": "code",
   "execution_count": 7,
   "metadata": {
    "collapsed": true
   },
   "outputs": [],
   "source": [
    "def execution(worker, logger):\n",
    "    # start two generator\n",
    "    next(logger)\n",
    "    data = next(worker)\n",
    "    while data is not None:\n",
    "        logger.send(\"processing {}\".format(data))\n",
    "        data = next(worker)\n",
    "    next(logger) # finish logging\n",
    "    logger.close()"
   ]
  },
  {
   "cell_type": "code",
   "execution_count": 8,
   "metadata": {
    "collapsed": false
   },
   "outputs": [
    {
     "name": "stdout",
     "output_type": "stream",
     "text": [
      "[Info]: processing 0\n",
      "[Info]: processing 1\n",
      "[Info]: processing 2\n",
      "[Info]: processing 3\n",
      "[Info]: processing 4\n",
      "[Info]: processing 5\n",
      "[Info]: processing 6\n",
      "[Info]: processing 7\n",
      "[Info]: processing 8\n",
      "[Info]: processing 9\n",
      "process done\n"
     ]
    }
   ],
   "source": [
    "execution(worker(10), logger2())"
   ]
  },
  {
   "cell_type": "markdown",
   "metadata": {},
   "source": [
    "## Sending Multiple Values"
   ]
  },
  {
   "cell_type": "code",
   "execution_count": 43,
   "metadata": {
    "collapsed": false
   },
   "outputs": [],
   "source": [
    "def test():\n",
    "    try:\n",
    "        a, b = (yield)\n",
    "        while a is not None or b is not None:\n",
    "            print(a, b)\n",
    "            try:\n",
    "                a, b = (yield)\n",
    "            except:\n",
    "                pass\n",
    "    except:\n",
    "        pass\n",
    "    \n",
    "    while True:\n",
    "        yield"
   ]
  },
  {
   "cell_type": "code",
   "execution_count": 44,
   "metadata": {
    "collapsed": false
   },
   "outputs": [],
   "source": [
    "t = test()"
   ]
  },
  {
   "cell_type": "code",
   "execution_count": 45,
   "metadata": {
    "collapsed": true
   },
   "outputs": [],
   "source": [
    "next(t)"
   ]
  },
  {
   "cell_type": "code",
   "execution_count": 46,
   "metadata": {
    "collapsed": false
   },
   "outputs": [
    {
     "name": "stdout",
     "output_type": "stream",
     "text": [
      "1 2\n"
     ]
    }
   ],
   "source": [
    "t.send((1, 2))"
   ]
  },
  {
   "cell_type": "code",
   "execution_count": 47,
   "metadata": {
    "collapsed": false
   },
   "outputs": [
    {
     "name": "stdout",
     "output_type": "stream",
     "text": [
      "3 3\n"
     ]
    }
   ],
   "source": [
    "t.send((3, 3))"
   ]
  },
  {
   "cell_type": "code",
   "execution_count": 48,
   "metadata": {
    "collapsed": false
   },
   "outputs": [],
   "source": [
    "t.send((None, None))"
   ]
  },
  {
   "cell_type": "code",
   "execution_count": 49,
   "metadata": {
    "collapsed": true
   },
   "outputs": [],
   "source": [
    "next(t)"
   ]
  },
  {
   "cell_type": "code",
   "execution_count": 50,
   "metadata": {
    "collapsed": true
   },
   "outputs": [],
   "source": [
    "t.close()"
   ]
  },
  {
   "cell_type": "code",
   "execution_count": 51,
   "metadata": {
    "collapsed": false
   },
   "outputs": [
    {
     "ename": "StopIteration",
     "evalue": "",
     "output_type": "error",
     "traceback": [
      "\u001b[0;31m---------------------------------------------------------------------------\u001b[0m",
      "\u001b[0;31mStopIteration\u001b[0m                             Traceback (most recent call last)",
      "\u001b[0;32m<ipython-input-51-9494367a8bed>\u001b[0m in \u001b[0;36m<module>\u001b[0;34m()\u001b[0m\n\u001b[0;32m----> 1\u001b[0;31m \u001b[0mnext\u001b[0m\u001b[0;34m(\u001b[0m\u001b[0mt\u001b[0m\u001b[0;34m)\u001b[0m\u001b[0;34m\u001b[0m\u001b[0m\n\u001b[0m",
      "\u001b[0;31mStopIteration\u001b[0m: "
     ]
    }
   ],
   "source": [
    "next(t)"
   ]
  },
  {
   "cell_type": "code",
   "execution_count": null,
   "metadata": {
    "collapsed": true
   },
   "outputs": [],
   "source": []
  }
 ],
 "metadata": {
  "kernelspec": {
   "display_name": "Python 3",
   "language": "python",
   "name": "python3"
  },
  "language_info": {
   "codemirror_mode": {
    "name": "ipython",
    "version": 3
   },
   "file_extension": ".py",
   "mimetype": "text/x-python",
   "name": "python",
   "nbconvert_exporter": "python",
   "pygments_lexer": "ipython3",
   "version": "3.5.0"
  }
 },
 "nbformat": 4,
 "nbformat_minor": 0
}
