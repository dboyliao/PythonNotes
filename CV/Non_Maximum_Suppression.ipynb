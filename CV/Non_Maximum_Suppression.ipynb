{
 "cells": [
  {
   "cell_type": "code",
   "execution_count": 3,
   "metadata": {},
   "outputs": [],
   "source": [
    "import numpy as np\n",
    "%matplotlib inline\n",
    "import matplotlib.pyplot as plt\n",
    "import cv2"
   ]
  },
  {
   "cell_type": "code",
   "execution_count": 64,
   "metadata": {},
   "outputs": [],
   "source": [
    "boxs = np.array([[12, 84, 140, 212, 0.1],\n",
    "                 [24, 84, 152, 212, 0.2],\n",
    "                 [36, 84, 164, 212, 0.5],\n",
    "                 [12, 96, 140, 224, 0.1],\n",
    "                 [24, 96, 152, 224, 0.3],\n",
    "                 [24, 108, 152, 236, 0.8]])"
   ]
  },
  {
   "cell_type": "code",
   "execution_count": 65,
   "metadata": {},
   "outputs": [],
   "source": [
    "black_img = np.zeros((255, 255))"
   ]
  },
  {
   "cell_type": "code",
   "execution_count": 66,
   "metadata": {},
   "outputs": [
    {
     "data": {
      "text/plain": [
       "<matplotlib.image.AxesImage at 0x11f6240b8>"
      ]
     },
     "execution_count": 66,
     "metadata": {},
     "output_type": "execute_result"
    },
    {
     "data": {
      "image/png": "[encoded data removed]",
      "text/plain": [
       "<matplotlib.figure.Figure at 0x11f556a58>"
      ]
     },
     "metadata": {},
     "output_type": "display_data"
    }
   ],
   "source": [
    "plt.imshow(black_img, cmap='gray')"
   ]
  },
  {
   "cell_type": "code",
   "execution_count": 67,
   "metadata": {},
   "outputs": [
    {
     "name": "stdout",
     "output_type": "stream",
     "text": [
      "rectangle(img, pt1, pt2, color[, thickness[, lineType[, shift]]]) -> img\n",
      ".   @brief Draws a simple, thick, or filled up-right rectangle.\n",
      ".   \n",
      ".   The function rectangle draws a rectangle outline or a filled rectangle whose two opposite corners\n",
      ".   are pt1 and pt2.\n",
      ".   \n",
      ".   @param img Image.\n",
      ".   @param pt1 Vertex of the rectangle.\n",
      ".   @param pt2 Vertex of the rectangle opposite to pt1 .\n",
      ".   @param color Rectangle color or brightness (grayscale image).\n",
      ".   @param thickness Thickness of lines that make up the rectangle. Negative values, like CV_FILLED ,\n",
      ".   mean that the function has to draw a filled rectangle.\n",
      ".   @param lineType Type of the line. See the line description.\n",
      ".   @param shift Number of fractional bits in the point coordinates.\n"
     ]
    }
   ],
   "source": [
    "print(cv2.rectangle.__doc__)"
   ]
  },
  {
   "cell_type": "code",
   "execution_count": 73,
   "metadata": {},
   "outputs": [
    {
     "data": {
      "text/plain": [
       "<matplotlib.image.AxesImage at 0x11ea5ab70>"
      ]
     },
     "execution_count": 73,
     "metadata": {},
     "output_type": "execute_result"
    },
    {
     "data": {
      "image/png": "[encoded data removed]",
      "text/plain": [
       "<matplotlib.figure.Figure at 0x11e5beba8>"
      ]
     },
     "metadata": {},
     "output_type": "display_data"
    }
   ],
   "source": [
    "rect_img = black_img.copy()\n",
    "for box in boxs:\n",
    "    (x1, y1, x2, y2), s = map(int, box[:4]), float(box[4])\n",
    "    cv2.rectangle(rect_img, (x1, y1), (x2, y2), int(s*255), 2)\n",
    "plt.imshow(rect_img, cmap=\"gray\")"
   ]
  },
  {
   "cell_type": "code",
   "execution_count": 74,
   "metadata": {},
   "outputs": [],
   "source": [
    "def overlap(box1, box2):\n",
    "    w = max(0, box1[2]-box2[0])\n",
    "    h = max(0, box1[3]-box2[1])\n",
    "    return w*h"
   ]
  },
  {
   "cell_type": "code",
   "execution_count": 75,
   "metadata": {},
   "outputs": [],
   "source": [
    "def non_max_suppress(boxes, thres=0.3):\n",
    "    x1 = boxes[:, 0]\n",
    "    y1 = boxes[:, 1]\n",
    "    x2 = boxes[:, 2]\n",
    "    y2 = boxes[:, 3]\n",
    "    score = boxes[:, 4]\n",
    "    area = (x2-x1+1)*(y2-y1+1)\n",
    "    \n",
    "    idx = np.argsort(-score)\n",
    "    max_idx = idx[0]\n",
    "    max_box = boxes[max_idx]\n",
    "    max_area = area[max_idx]\n",
    "    pick = [max_idx]\n",
    "    for i in idx[1:]:\n",
    "        cur_box = boxes[i]\n",
    "        if overlap(max_box, cur_box) <= thres:\n",
    "            pick.append(i)\n",
    "    return pick"
   ]
  },
  {
   "cell_type": "code",
   "execution_count": 76,
   "metadata": {},
   "outputs": [],
   "source": [
    "pick_idx = non_max_suppress(boxs)"
   ]
  },
  {
   "cell_type": "code",
   "execution_count": 77,
   "metadata": {},
   "outputs": [
    {
     "data": {
      "text/plain": [
       "<matplotlib.image.AxesImage at 0x11eb5efd0>"
      ]
     },
     "execution_count": 77,
     "metadata": {},
     "output_type": "execute_result"
    },
    {
     "data": {
      "image/png": "[encoded data removed]",
      "text/plain": [
       "<matplotlib.figure.Figure at 0x11f707da0>"
      ]
     },
     "metadata": {},
     "output_type": "display_data"
    }
   ],
   "source": [
    "pick_rects = black_img.copy()\n",
    "for i in pick_idx:\n",
    "    x1, y1, x2, y2, _ = map(int, boxs[i])\n",
    "    cv2.rectangle(pick_rects, (x1, y1), (x2, y2), 128, 2)\n",
    "plt.imshow(pick_rects, cmap=\"gray\")"
   ]
  },
  {
   "cell_type": "code",
   "execution_count": null,
   "metadata": {},
   "outputs": [],
   "source": []
  }
 ],
 "metadata": {
  "kernelspec": {
   "display_name": "Python 3",
   "language": "python",
   "name": "python3"
  },
  "language_info": {
   "codemirror_mode": {
    "name": "ipython",
    "version": 3
   },
   "file_extension": ".py",
   "mimetype": "text/x-python",
   "name": "python",
   "nbconvert_exporter": "python",
   "pygments_lexer": "ipython3",
   "version": "3.6.3"
  }
 },
 "nbformat": 4,
 "nbformat_minor": 2
}
