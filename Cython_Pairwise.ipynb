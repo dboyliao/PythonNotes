{
 "metadata": {
  "name": "",
  "signature": "sha256:0b842b570af99a9398ce14b6122569588de7bdf5139402c0976a1667dc574531"
 },
 "nbformat": 3,
 "nbformat_minor": 0,
 "worksheets": [
  {
   "cells": [
    {
     "cell_type": "code",
     "collapsed": false,
     "input": [
      "%load_ext cythonmagic\n",
      "\n",
      "# Define our test array\n",
      "import numpy as np\n",
      "X = np.random.random((2000, 60))"
     ],
     "language": "python",
     "metadata": {},
     "outputs": [],
     "prompt_number": 1
    },
    {
     "cell_type": "code",
     "collapsed": false,
     "input": [
      "X"
     ],
     "language": "python",
     "metadata": {},
     "outputs": [
      {
       "metadata": {},
       "output_type": "pyout",
       "prompt_number": 2,
       "text": [
        "array([[ 0.65609814,  0.41124801,  0.26411051, ...,  0.40270333,\n",
        "         0.69664131,  0.19768464],\n",
        "       [ 0.45418939,  0.20532768,  0.17477163, ...,  0.26986151,\n",
        "         0.21190012,  0.78175873],\n",
        "       [ 0.72939036,  0.25955949,  0.31665894, ...,  0.02341043,\n",
        "         0.91859268,  0.67140734],\n",
        "       ..., \n",
        "       [ 0.87812343,  0.28708946,  0.59729641, ...,  0.71507318,\n",
        "         0.50897851,  0.29654887],\n",
        "       [ 0.30468379,  0.80243784,  0.86364637, ...,  0.03460128,\n",
        "         0.06018427,  0.60650193],\n",
        "       [ 0.37747764,  0.10286095,  0.79235716, ...,  0.20126879,\n",
        "         0.92456864,  0.02431888]])"
       ]
      }
     ],
     "prompt_number": 2
    },
    {
     "cell_type": "code",
     "collapsed": false,
     "input": [
      "%%cython\n",
      "import numpy as np\n",
      "X = np.random.random((2000, 60))\n",
      "cimport numpy as np\n",
      "from libc.math cimport sqrt\n",
      "# cimport cython if you want to enable setting boundscheck, wraparound, etc.\n",
      "cimport cython\n",
      "\n",
      "# define a function pointer to a metric\n",
      "ctypedef double (*metric_ptr)(np.ndarray, np.ndarray)\n",
      "\n",
      "@cython.boundscheck(False)\n",
      "@cython.wraparound(False)\n",
      "@cython.cdivision(True)\n",
      "cdef double my_metric(np.ndarray[double, ndim=1, mode='c'] x1,\n",
      "                      np.ndarray[double, ndim=1, mode='c'] x2):\n",
      "    cdef double mean1, mean2, var1, var2, var_d, corr, corr_d, d\n",
      "    cdef np.int_t i, N\n",
      "\n",
      "    var1, var2, var_d, corr, corr_d, d = 0, 0, 0, 0, 0, 0\n",
      "    mean1 = x1.mean()\n",
      "    mean2 = x2.mean()\n",
      "    N = x1.shape[0]\n",
      "    # Assume x2 has the same shape as x1. This could be dangerous!\n",
      "\n",
      "    for i in range(N):\n",
      "        var1 += (x1[i] - mean1) * (x1[i] - mean1) / float(N)\n",
      "        var2 += (x2[i] - mean2) * (x2[i] - mean2) / float(N)\n",
      "    var_d = 2.4 * np.exp(-1 / abs(var1 - var2))\n",
      "    for i in range(N):\n",
      "        corr += (x1[i] - mean1) * (x2[i] - mean2) / float(N)\n",
      "    corr = corr / sqrt((var1 * var2))\n",
      "    corr_d = 1 - corr\n",
      "    d = 0.5 * var_d + 0.5 * corr_d\n",
      "    return d\n",
      "\n",
      "@cython.boundscheck(False)\n",
      "@cython.wraparound(False)\n",
      "@cython.cdivision(True)\n",
      "def pairwise_my_metric(np.ndarray[double, ndim=2, mode='c'] X not None,\n",
      "                metric = 'my_metric'):\n",
      "    cdef metric_ptr dist_func\n",
      "    if metric == 'my_metric':\n",
      "        dist_func = &my_metric\n",
      "    else:\n",
      "        raise ValueError(\"unrecognized metric\")\n",
      "\n",
      "    cdef np.intp_t i, j, n_samples\n",
      "    n_samples = X.shape[0]\n",
      "\n",
      "    cdef np.ndarray[double, ndim=2, mode='c'] D = np.empty((n_samples,\n",
      "                                                            n_samples))\n",
      "    for i in range(n_samples):\n",
      "        for j in range(n_samples):\n",
      "            D[i, j] = dist_func(X[i], X[j])\n",
      "\n",
      "    return D"
     ],
     "language": "python",
     "metadata": {},
     "outputs": [],
     "prompt_number": 3
    },
    {
     "cell_type": "code",
     "collapsed": false,
     "input": [
      "%matplotlib inline\n",
      "import matplotlib.pylab as pylab\n",
      "import matplotlib.pyplot as plt\n",
      "pylab.rcParams['figure.figsize'] = 16, 12\n",
      "import pandas as pd\n",
      "from pandas.io.data import DataReader\n",
      "import datetime\n",
      "import numpy as np\n",
      "from scipy.spatial.distance import pdist, squareform"
     ],
     "language": "python",
     "metadata": {},
     "outputs": [],
     "prompt_number": 4
    },
    {
     "cell_type": "code",
     "collapsed": false,
     "input": [
      "def my_metric(x, y, w = np.array([.5, .5])):\n",
      "    X = np.r_[\"0, 2\", x, y]\n",
      "    rho = pdist(X, \"correlation\")\n",
      "    exp_d = 2 * np.exp(-1 / abs(np.linalg.norm(x - x.mean()) - np.linalg.norm(y - y.mean())))\n",
      "    return w[0] * rho + w[1] * exp_d"
     ],
     "language": "python",
     "metadata": {},
     "outputs": [],
     "prompt_number": 5
    },
    {
     "cell_type": "code",
     "collapsed": false,
     "input": [
      "%time pair_dist = pairwise_my_metric(X)"
     ],
     "language": "python",
     "metadata": {},
     "outputs": [
      {
       "output_type": "stream",
       "stream": "stdout",
       "text": [
        "CPU times: user 2min 33s, sys: 2.3 s, total: 2min 35s\n",
        "Wall time: 2min 34s\n"
       ]
      }
     ],
     "prompt_number": 6
    },
    {
     "cell_type": "code",
     "collapsed": false,
     "input": [
      "%time distance = squareform(pdist(X, lambda x, y: my_metric(x, y, [0.5, 0.5])))"
     ],
     "language": "python",
     "metadata": {},
     "outputs": [
      {
       "output_type": "stream",
       "stream": "stdout",
       "text": [
        "CPU times: user 6min 25s, sys: 1.38 s, total: 6min 26s\n",
        "Wall time: 6min 29s\n"
       ]
      }
     ],
     "prompt_number": 7
    },
    {
     "cell_type": "code",
     "collapsed": false,
     "input": [
      "pair_dist"
     ],
     "language": "python",
     "metadata": {},
     "outputs": [
      {
       "metadata": {},
       "output_type": "pyout",
       "prompt_number": 8,
       "text": [
        "array([[ 0.        ,  0.4536005 ,  0.41931025, ...,  0.50650511,\n",
        "         0.50336891,  0.61934236],\n",
        "       [ 0.4536005 ,  0.        ,  0.52622228, ...,  0.48804275,\n",
        "         0.60585277,  0.64465785],\n",
        "       [ 0.41931025,  0.52622228,  0.        , ...,  0.49667944,\n",
        "         0.41824166,  0.5395575 ],\n",
        "       ..., \n",
        "       [ 0.50650511,  0.48804275,  0.49667944, ...,  0.        ,\n",
        "         0.63629622,  0.60200349],\n",
        "       [ 0.50336891,  0.60585277,  0.41824166, ...,  0.63629622,\n",
        "         0.        ,  0.41705845],\n",
        "       [ 0.61934236,  0.64465785,  0.5395575 , ...,  0.60200349,\n",
        "         0.41705845,  0.        ]])"
       ]
      }
     ],
     "prompt_number": 8
    },
    {
     "cell_type": "code",
     "collapsed": false,
     "input": [
      "pair_dist.shape"
     ],
     "language": "python",
     "metadata": {},
     "outputs": [
      {
       "metadata": {},
       "output_type": "pyout",
       "prompt_number": 10,
       "text": [
        "(2000, 2000)"
       ]
      }
     ],
     "prompt_number": 10
    },
    {
     "cell_type": "code",
     "collapsed": false,
     "input": [
      "start = datetime.datetime(2005, 1, 1)\n",
      "end = datetime.datetime.now()\n",
      "TW2330_df = DataReader(name=\"2330.TW\", data_source=\"yahoo\", start=start, end=end)\n",
      "TW2330_df.head()"
     ],
     "language": "python",
     "metadata": {},
     "outputs": [
      {
       "html": [
        "<div style=\"max-height:1000px;max-width:1500px;overflow:auto;\">\n",
        "<table border=\"1\" class=\"dataframe\">\n",
        "  <thead>\n",
        "    <tr style=\"text-align: right;\">\n",
        "      <th></th>\n",
        "      <th>Open</th>\n",
        "      <th>High</th>\n",
        "      <th>Low</th>\n",
        "      <th>Close</th>\n",
        "      <th>Volume</th>\n",
        "      <th>Adj Close</th>\n",
        "    </tr>\n",
        "    <tr>\n",
        "      <th>Date</th>\n",
        "      <th></th>\n",
        "      <th></th>\n",
        "      <th></th>\n",
        "      <th></th>\n",
        "      <th></th>\n",
        "      <th></th>\n",
        "    </tr>\n",
        "  </thead>\n",
        "  <tbody>\n",
        "    <tr>\n",
        "      <th>2005-01-03</th>\n",
        "      <td> 46.92</td>\n",
        "      <td> 47.38</td>\n",
        "      <td> 46.46</td>\n",
        "      <td> 46.92</td>\n",
        "      <td> 28506400</td>\n",
        "      <td> 36.29</td>\n",
        "    </tr>\n",
        "    <tr>\n",
        "      <th>2005-01-04</th>\n",
        "      <td> 46.00</td>\n",
        "      <td> 46.46</td>\n",
        "      <td> 45.63</td>\n",
        "      <td> 45.63</td>\n",
        "      <td> 30389900</td>\n",
        "      <td> 35.29</td>\n",
        "    </tr>\n",
        "    <tr>\n",
        "      <th>2005-01-05</th>\n",
        "      <td> 44.90</td>\n",
        "      <td> 44.90</td>\n",
        "      <td> 44.62</td>\n",
        "      <td> 44.62</td>\n",
        "      <td> 41508700</td>\n",
        "      <td> 34.51</td>\n",
        "    </tr>\n",
        "    <tr>\n",
        "      <th>2005-01-06</th>\n",
        "      <td> 44.25</td>\n",
        "      <td> 44.53</td>\n",
        "      <td> 44.07</td>\n",
        "      <td> 44.16</td>\n",
        "      <td> 47627000</td>\n",
        "      <td> 34.15</td>\n",
        "    </tr>\n",
        "    <tr>\n",
        "      <th>2005-01-07</th>\n",
        "      <td> 43.98</td>\n",
        "      <td> 44.07</td>\n",
        "      <td> 43.70</td>\n",
        "      <td> 43.98</td>\n",
        "      <td> 47734900</td>\n",
        "      <td> 34.01</td>\n",
        "    </tr>\n",
        "  </tbody>\n",
        "</table>\n",
        "</div>"
       ],
       "metadata": {},
       "output_type": "pyout",
       "prompt_number": 11,
       "text": [
        "             Open   High    Low  Close    Volume  Adj Close\n",
        "Date                                                       \n",
        "2005-01-03  46.92  47.38  46.46  46.92  28506400      36.29\n",
        "2005-01-04  46.00  46.46  45.63  45.63  30389900      35.29\n",
        "2005-01-05  44.90  44.90  44.62  44.62  41508700      34.51\n",
        "2005-01-06  44.25  44.53  44.07  44.16  47627000      34.15\n",
        "2005-01-07  43.98  44.07  43.70  43.98  47734900      34.01"
       ]
      }
     ],
     "prompt_number": 11
    },
    {
     "cell_type": "code",
     "collapsed": false,
     "input": [
      "def ts_lag(ts, n, name_prefix=\"lag_\", remove_index = False):\n",
      "    ngram_ts_list = [ts.shift(i) for i in range(n)]\n",
      "    colnames = [\"%s%i\" % (name_prefix,i) for i in range(n)]\n",
      "    \n",
      "    if remove_index:\n",
      "        return pd.concat(ngram_ts_list, axis=1,join=\"inner\",keys=colnames)[n-1:].reset_index(drop=True)\n",
      "    else:\n",
      "        return pd.concat(ngram_ts_list, axis=1,join=\"inner\",keys=colnames)[n-1:]"
     ],
     "language": "python",
     "metadata": {},
     "outputs": [],
     "prompt_number": 12
    },
    {
     "cell_type": "code",
     "collapsed": false,
     "input": [
      "df_lag = ts_lag(TW2330_df[\"Close\"], 90)"
     ],
     "language": "python",
     "metadata": {},
     "outputs": [],
     "prompt_number": 13
    },
    {
     "cell_type": "code",
     "collapsed": false,
     "input": [
      "%time distance = squareform(pdist(df_lag.values, lambda x, y: my_metric(x, y, [0.5, 0.5])))"
     ],
     "language": "python",
     "metadata": {},
     "outputs": []
    },
    {
     "cell_type": "code",
     "collapsed": false,
     "input": [
      "df_lag_matrix = df_lag.values\n",
      "df_lag_matrix"
     ],
     "language": "python",
     "metadata": {},
     "outputs": [
      {
       "metadata": {},
       "output_type": "pyout",
       "prompt_number": 14,
       "text": [
        "array([[  51.89,   50.51,   49.96, ...,   44.62,   45.63,   46.92],\n",
        "       [  51.98,   51.89,   50.51, ...,   44.16,   44.62,   45.63],\n",
        "       [  50.79,   51.98,   51.89, ...,   43.98,   44.16,   44.62],\n",
        "       ..., \n",
        "       [ 125.  ,  125.  ,  122.5 , ...,  125.  ,  124.5 ,  123.  ],\n",
        "       [ 120.5 ,  125.  ,  125.  , ...,  123.5 ,  125.  ,  124.5 ],\n",
        "       [ 121.  ,  120.5 ,  125.  , ...,  123.  ,  123.5 ,  125.  ]])"
       ]
      }
     ],
     "prompt_number": 14
    },
    {
     "cell_type": "code",
     "collapsed": false,
     "input": [
      "df_lag.values.shape"
     ],
     "language": "python",
     "metadata": {},
     "outputs": [
      {
       "metadata": {},
       "output_type": "pyout",
       "prompt_number": 15,
       "text": [
        "(2373, 90)"
       ]
      }
     ],
     "prompt_number": 15
    },
    {
     "cell_type": "code",
     "collapsed": false,
     "input": [
      "type(X)"
     ],
     "language": "python",
     "metadata": {},
     "outputs": [
      {
       "metadata": {},
       "output_type": "pyout",
       "prompt_number": 11,
       "text": [
        "numpy.ndarray"
       ]
      }
     ],
     "prompt_number": 11
    },
    {
     "cell_type": "code",
     "collapsed": false,
     "input": [
      "type(df_lag.values)"
     ],
     "language": "python",
     "metadata": {},
     "outputs": [
      {
       "metadata": {},
       "output_type": "pyout",
       "prompt_number": 12,
       "text": [
        "numpy.ndarray"
       ]
      }
     ],
     "prompt_number": 12
    },
    {
     "cell_type": "code",
     "collapsed": false,
     "input": [
      "pair_dist = pairwise_my_metric(df_lag.values)"
     ],
     "language": "python",
     "metadata": {},
     "outputs": [
      {
       "ename": "ValueError",
       "evalue": "ndarray is not C-contiguous",
       "output_type": "pyerr",
       "traceback": [
        "\u001b[0;31m---------------------------------------------------------------------------\u001b[0m\n\u001b[0;31mValueError\u001b[0m                                Traceback (most recent call last)",
        "\u001b[0;32m<ipython-input-16-c3c21cd3f8ac>\u001b[0m in \u001b[0;36m<module>\u001b[0;34m()\u001b[0m\n\u001b[0;32m----> 1\u001b[0;31m \u001b[0mpair_dist\u001b[0m \u001b[0;34m=\u001b[0m \u001b[0mpairwise_my_metric\u001b[0m\u001b[0;34m(\u001b[0m\u001b[0mdf_lag\u001b[0m\u001b[0;34m.\u001b[0m\u001b[0mvalues\u001b[0m\u001b[0;34m)\u001b[0m\u001b[0;34m\u001b[0m\u001b[0m\n\u001b[0m",
        "\u001b[0;32m/Users/DboyLiao/.ipython/cython/_cython_magic_e50fd1808ad460bd40f31d03ad417dfd.so\u001b[0m in \u001b[0;36m_cython_magic_e50fd1808ad460bd40f31d03ad417dfd.pairwise_my_metric (/Users/DboyLiao/.ipython/cython/_cython_magic_e50fd1808ad460bd40f31d03ad417dfd.c:1657)\u001b[0;34m()\u001b[0m\n",
        "\u001b[0;31mValueError\u001b[0m: ndarray is not C-contiguous"
       ]
      }
     ],
     "prompt_number": 16
    },
    {
     "cell_type": "code",
     "collapsed": false,
     "input": [],
     "language": "python",
     "metadata": {},
     "outputs": []
    }
   ],
   "metadata": {}
  }
 ]
}